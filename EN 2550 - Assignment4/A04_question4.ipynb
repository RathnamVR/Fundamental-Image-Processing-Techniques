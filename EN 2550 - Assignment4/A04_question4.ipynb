{
 "cells": [
  {
   "cell_type": "code",
   "execution_count": 2,
   "id": "steady-section",
   "metadata": {},
   "outputs": [],
   "source": [
    "import tensorflow as tf"
   ]
  },
  {
   "cell_type": "code",
   "execution_count": 3,
   "id": "bulgarian-portable",
   "metadata": {},
   "outputs": [],
   "source": [
    "from tensorflow import keras\n",
    "from tensorflow.keras.models import Sequential\n",
    "from tensorflow.keras.layers import Dense,Flatten,Conv2D,MaxPooling2D\n",
    "import matplotlib.pyplot as plt\n",
    "import numpy as np\n",
    "from tensorflow.keras.datasets import cifar10, mnist"
   ]
  },
  {
   "cell_type": "code",
   "execution_count": 4,
   "id": "dimensional-midnight",
   "metadata": {},
   "outputs": [],
   "source": [
    "#loading data\n",
    "(x_train, y_train), (x_test, y_test) = cifar10.load_data()"
   ]
  },
  {
   "cell_type": "code",
   "execution_count": 5,
   "id": "breathing-alignment",
   "metadata": {},
   "outputs": [],
   "source": [
    "#normalizing data\n",
    "x_train,x_test = x_train/ 255.0,x_test/ 255.0"
   ]
  },
  {
   "cell_type": "code",
   "execution_count": 6,
   "id": "handy-chuck",
   "metadata": {},
   "outputs": [
    {
     "name": "stdout",
     "output_type": "stream",
     "text": [
      "10\n"
     ]
    }
   ],
   "source": [
    "K = len(np.unique(y_train)) # Classes\n",
    "print(K)"
   ]
  },
  {
   "cell_type": "code",
   "execution_count": 7,
   "id": "alert-buffer",
   "metadata": {},
   "outputs": [
    {
     "data": {
      "text/plain": [
       "(50000, 32, 32, 3)"
      ]
     },
     "execution_count": 7,
     "metadata": {},
     "output_type": "execute_result"
    }
   ],
   "source": [
    "y_train = tf.keras.utils.to_categorical(y_train, num_classes=K)\n",
    "y_test = tf.keras.utils.to_categorical(y_test, num_classes=K)\n",
    "x_train.shape"
   ]
  },
  {
   "cell_type": "code",
   "execution_count": 23,
   "id": "canadian-inspection",
   "metadata": {},
   "outputs": [],
   "source": [
    "#using keras sequantial models \n",
    "model = Sequential()\n",
    "model.add(Conv2D(32, (3, 3), activation='relu',padding='same', input_shape=(32,32,3)))#adding convolution layer C32\n",
    "model.add(MaxPooling2D(pool_size=(2, 2)))#maxpooling by 2x2 \n",
    "model.add(Conv2D(64, (3, 3), activation='relu',padding='same'))#C64\n",
    "model.add(MaxPooling2D(pool_size=(2, 2)))\n",
    "model.add(Conv2D(64, (3, 3), activation='relu',padding='same'))#C64\n",
    "model.add(MaxPooling2D(pool_size=(2, 2)))"
   ]
  },
  {
   "cell_type": "code",
   "execution_count": 24,
   "id": "alike-longer",
   "metadata": {},
   "outputs": [],
   "source": [
    "model.add(Flatten())#make the output into a 1D array for full connected layers \n",
    "model.add(Dense(64, activation='sigmoid'))#hidden layer with 64 nodes \n",
    "model.add(Dense(10))#output "
   ]
  },
  {
   "cell_type": "code",
   "execution_count": 25,
   "id": "resistant-chamber",
   "metadata": {},
   "outputs": [
    {
     "name": "stdout",
     "output_type": "stream",
     "text": [
      "Model: \"sequential_1\"\n",
      "_________________________________________________________________\n",
      "Layer (type)                 Output Shape              Param #   \n",
      "=================================================================\n",
      "conv2d_3 (Conv2D)            (None, 32, 32, 32)        896       \n",
      "_________________________________________________________________\n",
      "max_pooling2d_3 (MaxPooling2 (None, 16, 16, 32)        0         \n",
      "_________________________________________________________________\n",
      "conv2d_4 (Conv2D)            (None, 16, 16, 64)        18496     \n",
      "_________________________________________________________________\n",
      "max_pooling2d_4 (MaxPooling2 (None, 8, 8, 64)          0         \n",
      "_________________________________________________________________\n",
      "conv2d_5 (Conv2D)            (None, 8, 8, 64)          36928     \n",
      "_________________________________________________________________\n",
      "max_pooling2d_5 (MaxPooling2 (None, 4, 4, 64)          0         \n",
      "_________________________________________________________________\n",
      "flatten_1 (Flatten)          (None, 1024)              0         \n",
      "_________________________________________________________________\n",
      "dense_2 (Dense)              (None, 64)                65600     \n",
      "_________________________________________________________________\n",
      "dense_3 (Dense)              (None, 10)                650       \n",
      "=================================================================\n",
      "Total params: 122,570\n",
      "Trainable params: 122,570\n",
      "Non-trainable params: 0\n",
      "_________________________________________________________________\n"
     ]
    }
   ],
   "source": [
    "model.summary()"
   ]
  },
  {
   "cell_type": "code",
   "execution_count": 26,
   "id": "italic-defense",
   "metadata": {},
   "outputs": [],
   "source": [
    "#sgd as the optimizer \n",
    "sgd=tf.keras.optimizers.SGD(learning_rate=0.017,decay=0.99,momentum=0.9)"
   ]
  },
  {
   "cell_type": "code",
   "execution_count": 27,
   "id": "driving-consortium",
   "metadata": {},
   "outputs": [
    {
     "name": "stdout",
     "output_type": "stream",
     "text": [
      "Epoch 1/100\n",
      "1000/1000 [==============================] - 85s 85ms/step - loss: 2.2733 - accuracy: 0.1673 - val_loss: 2.1922 - val_accuracy: 0.2111\n",
      "Epoch 2/100\n",
      "1000/1000 [==============================] - 73s 73ms/step - loss: 2.0599 - accuracy: 0.2633 - val_loss: 1.9743 - val_accuracy: 0.2797\n",
      "Epoch 3/100\n",
      "1000/1000 [==============================] - 69s 69ms/step - loss: 1.9187 - accuracy: 0.3107 - val_loss: 1.8453 - val_accuracy: 0.3455\n",
      "Epoch 4/100\n",
      "1000/1000 [==============================] - 68s 68ms/step - loss: 1.8075 - accuracy: 0.3600 - val_loss: 1.7302 - val_accuracy: 0.3830\n",
      "Epoch 5/100\n",
      "1000/1000 [==============================] - 70s 70ms/step - loss: 1.7028 - accuracy: 0.3935 - val_loss: 1.6874 - val_accuracy: 0.3934\n",
      "Epoch 6/100\n",
      "1000/1000 [==============================] - 69s 69ms/step - loss: 1.6159 - accuracy: 0.4236 - val_loss: 1.5708 - val_accuracy: 0.4360\n",
      "Epoch 7/100\n",
      "1000/1000 [==============================] - 73s 73ms/step - loss: 1.5484 - accuracy: 0.4486 - val_loss: 1.4986 - val_accuracy: 0.4705\n",
      "Epoch 8/100\n",
      "1000/1000 [==============================] - 68s 68ms/step - loss: 1.4966 - accuracy: 0.4648 - val_loss: 1.4582 - val_accuracy: 0.4834\n",
      "Epoch 9/100\n",
      "1000/1000 [==============================] - 70s 70ms/step - loss: 1.4541 - accuracy: 0.4819 - val_loss: 1.4363 - val_accuracy: 0.4893\n",
      "Epoch 10/100\n",
      "1000/1000 [==============================] - 77s 77ms/step - loss: 1.4173 - accuracy: 0.4958 - val_loss: 1.3975 - val_accuracy: 0.4995\n",
      "Epoch 11/100\n",
      "1000/1000 [==============================] - 75s 75ms/step - loss: 1.3834 - accuracy: 0.5098 - val_loss: 1.3562 - val_accuracy: 0.5175\n",
      "Epoch 12/100\n",
      "1000/1000 [==============================] - 68s 68ms/step - loss: 1.3493 - accuracy: 0.5239 - val_loss: 1.3393 - val_accuracy: 0.5248\n",
      "Epoch 13/100\n",
      "1000/1000 [==============================] - 73s 73ms/step - loss: 1.3194 - accuracy: 0.5323 - val_loss: 1.3200 - val_accuracy: 0.5269\n",
      "Epoch 14/100\n",
      "1000/1000 [==============================] - 71s 71ms/step - loss: 1.2905 - accuracy: 0.5445 - val_loss: 1.2795 - val_accuracy: 0.5462\n",
      "Epoch 15/100\n",
      "1000/1000 [==============================] - 70s 70ms/step - loss: 1.2608 - accuracy: 0.5546 - val_loss: 1.2696 - val_accuracy: 0.5479\n",
      "Epoch 16/100\n",
      "1000/1000 [==============================] - 69s 69ms/step - loss: 1.2333 - accuracy: 0.5649 - val_loss: 1.2539 - val_accuracy: 0.5513\n",
      "Epoch 17/100\n",
      "1000/1000 [==============================] - 68s 68ms/step - loss: 1.2078 - accuracy: 0.5743 - val_loss: 1.2183 - val_accuracy: 0.5636\n",
      "Epoch 18/100\n",
      "1000/1000 [==============================] - 69s 69ms/step - loss: 1.1824 - accuracy: 0.5845 - val_loss: 1.2081 - val_accuracy: 0.5706\n",
      "Epoch 19/100\n",
      "1000/1000 [==============================] - 69s 69ms/step - loss: 1.1571 - accuracy: 0.5934 - val_loss: 1.1909 - val_accuracy: 0.5771\n",
      "Epoch 20/100\n",
      "1000/1000 [==============================] - 70s 70ms/step - loss: 1.1319 - accuracy: 0.6033 - val_loss: 1.1770 - val_accuracy: 0.5831\n",
      "Epoch 21/100\n",
      "1000/1000 [==============================] - 75s 75ms/step - loss: 1.1105 - accuracy: 0.6109 - val_loss: 1.1496 - val_accuracy: 0.5900\n",
      "Epoch 22/100\n",
      "1000/1000 [==============================] - 80s 80ms/step - loss: 1.0885 - accuracy: 0.6192 - val_loss: 1.1098 - val_accuracy: 0.6082\n",
      "Epoch 23/100\n",
      "1000/1000 [==============================] - 70s 70ms/step - loss: 1.0685 - accuracy: 0.6268 - val_loss: 1.1137 - val_accuracy: 0.6063\n",
      "Epoch 24/100\n",
      "1000/1000 [==============================] - 70s 70ms/step - loss: 1.0477 - accuracy: 0.6339 - val_loss: 1.0928 - val_accuracy: 0.6162\n",
      "Epoch 25/100\n",
      "1000/1000 [==============================] - 70s 70ms/step - loss: 1.0269 - accuracy: 0.6402 - val_loss: 1.0775 - val_accuracy: 0.6179\n",
      "Epoch 26/100\n",
      "1000/1000 [==============================] - 73s 73ms/step - loss: 1.0099 - accuracy: 0.6487 - val_loss: 1.0652 - val_accuracy: 0.6228\n",
      "Epoch 27/100\n",
      "1000/1000 [==============================] - 70s 70ms/step - loss: 0.9906 - accuracy: 0.6547 - val_loss: 1.0514 - val_accuracy: 0.6298\n",
      "Epoch 28/100\n",
      "1000/1000 [==============================] - 71s 71ms/step - loss: 0.9729 - accuracy: 0.6596 - val_loss: 1.0379 - val_accuracy: 0.6347\n",
      "Epoch 29/100\n",
      "1000/1000 [==============================] - 70s 70ms/step - loss: 0.9543 - accuracy: 0.6683 - val_loss: 1.0199 - val_accuracy: 0.6439\n",
      "Epoch 30/100\n",
      "1000/1000 [==============================] - 68s 68ms/step - loss: 0.9383 - accuracy: 0.6753 - val_loss: 1.0121 - val_accuracy: 0.6446\n",
      "Epoch 31/100\n",
      "1000/1000 [==============================] - 68s 68ms/step - loss: 0.9235 - accuracy: 0.6785 - val_loss: 1.0509 - val_accuracy: 0.6268\n",
      "Epoch 32/100\n",
      "1000/1000 [==============================] - 70s 70ms/step - loss: 0.9086 - accuracy: 0.6877 - val_loss: 0.9998 - val_accuracy: 0.6492\n",
      "Epoch 33/100\n",
      "1000/1000 [==============================] - 72s 72ms/step - loss: 0.8927 - accuracy: 0.6905 - val_loss: 1.0098 - val_accuracy: 0.6476\n",
      "Epoch 34/100\n",
      "1000/1000 [==============================] - 73s 73ms/step - loss: 0.8790 - accuracy: 0.6964 - val_loss: 0.9720 - val_accuracy: 0.6561\n",
      "Epoch 35/100\n",
      "1000/1000 [==============================] - 67s 67ms/step - loss: 0.8644 - accuracy: 0.7011 - val_loss: 0.9872 - val_accuracy: 0.6524\n",
      "Epoch 36/100\n",
      "1000/1000 [==============================] - 66s 66ms/step - loss: 0.8504 - accuracy: 0.7071 - val_loss: 0.9625 - val_accuracy: 0.6618\n",
      "Epoch 37/100\n",
      "1000/1000 [==============================] - 67s 67ms/step - loss: 0.8360 - accuracy: 0.7124 - val_loss: 0.9747 - val_accuracy: 0.6594\n",
      "Epoch 38/100\n",
      "1000/1000 [==============================] - 67s 67ms/step - loss: 0.8243 - accuracy: 0.7146 - val_loss: 0.9492 - val_accuracy: 0.6665\n",
      "Epoch 39/100\n",
      "1000/1000 [==============================] - 68s 68ms/step - loss: 0.8108 - accuracy: 0.7201 - val_loss: 0.9570 - val_accuracy: 0.6655\n",
      "Epoch 40/100\n",
      "1000/1000 [==============================] - 70s 70ms/step - loss: 0.7975 - accuracy: 0.7250 - val_loss: 0.9563 - val_accuracy: 0.6659\n",
      "Epoch 41/100\n",
      "1000/1000 [==============================] - 70s 70ms/step - loss: 0.7856 - accuracy: 0.7281 - val_loss: 0.9518 - val_accuracy: 0.6683\n",
      "Epoch 42/100\n",
      "1000/1000 [==============================] - 67s 67ms/step - loss: 0.7719 - accuracy: 0.7343 - val_loss: 0.9347 - val_accuracy: 0.6731\n",
      "Epoch 43/100\n",
      "1000/1000 [==============================] - 67s 67ms/step - loss: 0.7600 - accuracy: 0.7398 - val_loss: 0.9256 - val_accuracy: 0.6782\n",
      "Epoch 44/100\n",
      "1000/1000 [==============================] - 75s 75ms/step - loss: 0.7496 - accuracy: 0.7424 - val_loss: 0.9246 - val_accuracy: 0.6808\n",
      "Epoch 45/100\n",
      "1000/1000 [==============================] - 73s 73ms/step - loss: 0.7360 - accuracy: 0.7467 - val_loss: 0.9180 - val_accuracy: 0.6847\n",
      "Epoch 46/100\n",
      "1000/1000 [==============================] - 72s 72ms/step - loss: 0.7249 - accuracy: 0.7506 - val_loss: 0.9149 - val_accuracy: 0.6852\n",
      "Epoch 47/100\n",
      "1000/1000 [==============================] - 72s 72ms/step - loss: 0.7132 - accuracy: 0.7554 - val_loss: 0.9211 - val_accuracy: 0.6752\n",
      "Epoch 48/100\n",
      "1000/1000 [==============================] - 75s 75ms/step - loss: 0.7040 - accuracy: 0.7579 - val_loss: 0.9492 - val_accuracy: 0.6783\n",
      "Epoch 49/100\n",
      "1000/1000 [==============================] - 77s 77ms/step - loss: 0.6932 - accuracy: 0.7644 - val_loss: 0.9198 - val_accuracy: 0.6809\n",
      "Epoch 50/100\n",
      "1000/1000 [==============================] - 75s 75ms/step - loss: 0.6816 - accuracy: 0.7675 - val_loss: 0.9304 - val_accuracy: 0.6763\n",
      "Epoch 51/100\n",
      "1000/1000 [==============================] - 77s 77ms/step - loss: 0.6716 - accuracy: 0.7718 - val_loss: 0.9178 - val_accuracy: 0.6836\n",
      "Epoch 52/100\n",
      "1000/1000 [==============================] - 77s 77ms/step - loss: 0.6604 - accuracy: 0.7759 - val_loss: 0.9598 - val_accuracy: 0.6735\n",
      "Epoch 53/100\n",
      "1000/1000 [==============================] - 71s 71ms/step - loss: 0.6493 - accuracy: 0.7783 - val_loss: 0.9160 - val_accuracy: 0.6869\n",
      "Epoch 54/100\n",
      "1000/1000 [==============================] - 67s 67ms/step - loss: 0.6378 - accuracy: 0.7807 - val_loss: 0.9116 - val_accuracy: 0.6872\n",
      "Epoch 55/100\n",
      "1000/1000 [==============================] - 68s 68ms/step - loss: 0.6281 - accuracy: 0.7859 - val_loss: 0.9138 - val_accuracy: 0.6870\n",
      "Epoch 56/100\n"
     ]
    },
    {
     "name": "stdout",
     "output_type": "stream",
     "text": [
      "1000/1000 [==============================] - 71s 71ms/step - loss: 0.6186 - accuracy: 0.7907 - val_loss: 0.9141 - val_accuracy: 0.6920\n",
      "Epoch 57/100\n",
      "1000/1000 [==============================] - 75s 75ms/step - loss: 0.6058 - accuracy: 0.7950 - val_loss: 0.9138 - val_accuracy: 0.6876\n",
      "Epoch 58/100\n",
      "1000/1000 [==============================] - 73s 73ms/step - loss: 0.5969 - accuracy: 0.7973 - val_loss: 0.9156 - val_accuracy: 0.6881\n",
      "Epoch 59/100\n",
      "1000/1000 [==============================] - 80s 80ms/step - loss: 0.5878 - accuracy: 0.8014 - val_loss: 0.9161 - val_accuracy: 0.6869\n",
      "Epoch 60/100\n",
      "1000/1000 [==============================] - 69s 69ms/step - loss: 0.5779 - accuracy: 0.8059 - val_loss: 0.9450 - val_accuracy: 0.6816779 - accuracy: 0. - ETA: 1s - loss: 0.5777 - accuracy: 0. - E\n",
      "Epoch 61/100\n",
      "1000/1000 [==============================] - 69s 69ms/step - loss: 0.5680 - accuracy: 0.8085 - val_loss: 0.9194 - val_accuracy: 0.6874\n",
      "Epoch 62/100\n",
      "1000/1000 [==============================] - 70s 70ms/step - loss: 0.5618 - accuracy: 0.8092 - val_loss: 0.9227 - val_accuracy: 0.6880\n",
      "Epoch 63/100\n",
      "1000/1000 [==============================] - 71s 71ms/step - loss: 0.5494 - accuracy: 0.8156 - val_loss: 0.9118 - val_accuracy: 0.6887\n",
      "Epoch 64/100\n",
      "1000/1000 [==============================] - 67s 67ms/step - loss: 0.5413 - accuracy: 0.8171 - val_loss: 0.9201 - val_accuracy: 0.6871\n",
      "Epoch 65/100\n",
      "1000/1000 [==============================] - 67s 67ms/step - loss: 0.5325 - accuracy: 0.8193 - val_loss: 0.9146 - val_accuracy: 0.6929 - loss: 0.5325 - accuracy: \n",
      "Epoch 66/100\n",
      "1000/1000 [==============================] - 70s 70ms/step - loss: 0.5232 - accuracy: 0.8262 - val_loss: 0.9220 - val_accuracy: 0.6904\n",
      "Epoch 67/100\n",
      "1000/1000 [==============================] - 67s 67ms/step - loss: 0.5121 - accuracy: 0.8294 - val_loss: 0.9267 - val_accuracy: 0.6896\n",
      "Epoch 68/100\n",
      "1000/1000 [==============================] - 68s 68ms/step - loss: 0.5045 - accuracy: 0.8326 - val_loss: 0.9293 - val_accuracy: 0.6880\n",
      "Epoch 69/100\n",
      "1000/1000 [==============================] - 69s 69ms/step - loss: 0.4955 - accuracy: 0.8349 - val_loss: 0.9437 - val_accuracy: 0.6866\n",
      "Epoch 70/100\n",
      "1000/1000 [==============================] - 68s 68ms/step - loss: 0.4853 - accuracy: 0.8403 - val_loss: 0.9264 - val_accuracy: 0.6913\n",
      "Epoch 71/100\n",
      "1000/1000 [==============================] - 68s 68ms/step - loss: 0.4769 - accuracy: 0.8415 - val_loss: 0.9458 - val_accuracy: 0.6844\n",
      "Epoch 72/100\n",
      "1000/1000 [==============================] - 67s 67ms/step - loss: 0.4675 - accuracy: 0.8466 - val_loss: 0.9494 - val_accuracy: 0.6888\n",
      "Epoch 73/100\n",
      "1000/1000 [==============================] - 70s 70ms/step - loss: 0.4607 - accuracy: 0.8493 - val_loss: 0.9348 - val_accuracy: 0.6919\n",
      "Epoch 74/100\n",
      "1000/1000 [==============================] - 79s 79ms/step - loss: 0.4487 - accuracy: 0.8533 - val_loss: 0.9520 - val_accuracy: 0.6908\n",
      "Epoch 75/100\n",
      "1000/1000 [==============================] - 72s 72ms/step - loss: 0.4433 - accuracy: 0.8553 - val_loss: 0.9704 - val_accuracy: 0.6884 - loss: 0.4433 - accu\n",
      "Epoch 76/100\n",
      "1000/1000 [==============================] - 68s 68ms/step - loss: 0.4329 - accuracy: 0.8600 - val_loss: 0.9416 - val_accuracy: 0.6936\n",
      "Epoch 77/100\n",
      "1000/1000 [==============================] - 67s 67ms/step - loss: 0.4248 - accuracy: 0.8628 - val_loss: 0.9652 - val_accuracy: 0.6904\n",
      "Epoch 78/100\n",
      "1000/1000 [==============================] - 67s 67ms/step - loss: 0.4176 - accuracy: 0.8647 - val_loss: 0.9720 - val_accuracy: 0.6902\n",
      "Epoch 79/100\n",
      "1000/1000 [==============================] - 72s 72ms/step - loss: 0.4097 - accuracy: 0.8693 - val_loss: 0.9566 - val_accuracy: 0.6899\n",
      "Epoch 80/100\n",
      "1000/1000 [==============================] - 77s 77ms/step - loss: 0.4000 - accuracy: 0.8728 - val_loss: 0.9724 - val_accuracy: 0.6891\n",
      "Epoch 81/100\n",
      "1000/1000 [==============================] - 76s 76ms/step - loss: 0.3938 - accuracy: 0.8752 - val_loss: 0.9699 - val_accuracy: 0.6913\n",
      "Epoch 82/100\n",
      "1000/1000 [==============================] - 68s 68ms/step - loss: 0.3832 - accuracy: 0.8795 - val_loss: 0.9752 - val_accuracy: 0.6909\n",
      "Epoch 83/100\n",
      "1000/1000 [==============================] - 67s 67ms/step - loss: 0.3781 - accuracy: 0.8812 - val_loss: 0.9695 - val_accuracy: 0.6951\n",
      "Epoch 84/100\n",
      "1000/1000 [==============================] - 67s 67ms/step - loss: 0.3679 - accuracy: 0.8855 - val_loss: 0.9899 - val_accuracy: 0.6920\n",
      "Epoch 85/100\n",
      "1000/1000 [==============================] - 68s 68ms/step - loss: 0.3614 - accuracy: 0.8887 - val_loss: 0.9811 - val_accuracy: 0.6895\n",
      "Epoch 86/100\n",
      "1000/1000 [==============================] - 68s 68ms/step - loss: 0.3557 - accuracy: 0.8898 - val_loss: 0.9930 - val_accuracy: 0.6883\n",
      "Epoch 87/100\n",
      "1000/1000 [==============================] - 70s 70ms/step - loss: 0.3457 - accuracy: 0.8936 - val_loss: 1.0071 - val_accuracy: 0.6858\n",
      "Epoch 88/100\n",
      "1000/1000 [==============================] - 79s 79ms/step - loss: 0.3389 - accuracy: 0.8968 - val_loss: 1.0041 - val_accuracy: 0.6841\n",
      "Epoch 89/100\n",
      "1000/1000 [==============================] - 71s 71ms/step - loss: 0.3311 - accuracy: 0.9009 - val_loss: 1.0006 - val_accuracy: 0.6872\n",
      "Epoch 90/100\n",
      "1000/1000 [==============================] - 67s 67ms/step - loss: 0.3267 - accuracy: 0.9007 - val_loss: 1.0038 - val_accuracy: 0.6878\n",
      "Epoch 91/100\n",
      "1000/1000 [==============================] - 70s 70ms/step - loss: 0.3186 - accuracy: 0.9037 - val_loss: 1.0095 - val_accuracy: 0.6893\n",
      "Epoch 92/100\n",
      "1000/1000 [==============================] - 70s 70ms/step - loss: 0.3119 - accuracy: 0.9077 - val_loss: 1.0084 - val_accuracy: 0.6892\n",
      "Epoch 93/100\n",
      "1000/1000 [==============================] - 68s 68ms/step - loss: 0.3037 - accuracy: 0.9114 - val_loss: 1.0330 - val_accuracy: 0.6892\n",
      "Epoch 94/100\n",
      "1000/1000 [==============================] - 67s 67ms/step - loss: 0.2969 - accuracy: 0.9139 - val_loss: 1.0387 - val_accuracy: 0.6851\n",
      "Epoch 95/100\n",
      "1000/1000 [==============================] - 67s 67ms/step - loss: 0.2912 - accuracy: 0.9149 - val_loss: 1.0224 - val_accuracy: 0.6863\n",
      "Epoch 96/100\n",
      "1000/1000 [==============================] - 68s 68ms/step - loss: 0.2852 - accuracy: 0.9189 - val_loss: 1.0347 - val_accuracy: 0.6877\n",
      "Epoch 97/100\n",
      "1000/1000 [==============================] - 68s 68ms/step - loss: 0.2768 - accuracy: 0.9217 - val_loss: 1.0359 - val_accuracy: 0.6882\n",
      "Epoch 98/100\n",
      "1000/1000 [==============================] - 67s 67ms/step - loss: 0.2732 - accuracy: 0.9223 - val_loss: 1.0434 - val_accuracy: 0.6850\n",
      "Epoch 99/100\n",
      "1000/1000 [==============================] - 67s 67ms/step - loss: 0.2659 - accuracy: 0.9258 - val_loss: 1.0351 - val_accuracy: 0.6904\n",
      "Epoch 100/100\n",
      "1000/1000 [==============================] - 70s 70ms/step - loss: 0.2602 - accuracy: 0.9285 - val_loss: 1.0406 - val_accuracy: 0.6904\n"
     ]
    }
   ],
   "source": [
    "#compile the model \n",
    "model.compile(optimizer='sgd',loss=tf.keras.losses.CategoricalCrossentropy(from_logits=True),metrics=['accuracy'])\n",
    "history = model.fit(x_train,y_train,epochs=100,validation_data=(x_test,y_test),batch_size=50)"
   ]
  },
  {
   "cell_type": "code",
   "execution_count": 28,
   "id": "changing-glucose",
   "metadata": {},
   "outputs": [
    {
     "name": "stdout",
     "output_type": "stream",
     "text": [
      "1563/1563 [==============================] - 17s 11ms/step - loss: 0.2318 - accuracy: 0.9443\n",
      "313/313 [==============================] - 3s 10ms/step - loss: 1.0406 - accuracy: 0.6904\n",
      "Train accuracy= 94.42600011825562 %\n",
      "Train Loss= 0.23182989656925201\n",
      "Test accuracy= 69.04000043869019 %\n",
      "Test Loss= 1.040618896484375\n"
     ]
    }
   ],
   "source": [
    "#model evaluation \n",
    "loss_train,acc_train= model.evaluate(x_train,y_train)\n",
    "loss_test,acc_test= model.evaluate(x_test,y_test)\n",
    "print(\"Train accuracy=\",acc_train*100,\"%\")\n",
    "print(\"Train Loss=\",loss_train)\n",
    "print(\"Test accuracy=\",acc_test*100,\"%\")\n",
    "print(\"Test Loss=\",loss_test)"
   ]
  },
  {
   "cell_type": "code",
   "execution_count": 29,
   "id": "similar-ferry",
   "metadata": {},
   "outputs": [
    {
     "data": {
      "image/png": "[encoded data removed]",
      "text/plain": [
       "<Figure size 432x288 with 1 Axes>"
      ]
     },
     "metadata": {
      "needs_background": "light"
     },
     "output_type": "display_data"
    }
   ],
   "source": [
    "# accuracy train\n",
    "plt.plot(history.history['accuracy'])\n",
    "plt.title(\"Train Accuracy\")\n",
    "plt.show()"
   ]
  },
  {
   "cell_type": "code",
   "execution_count": 30,
   "id": "lucky-sample",
   "metadata": {},
   "outputs": [
    {
     "data": {
      "image/png": "[encoded data removed]",
      "text/plain": [
       "<Figure size 432x288 with 1 Axes>"
      ]
     },
     "metadata": {
      "needs_background": "light"
     },
     "output_type": "display_data"
    }
   ],
   "source": [
    "# accuracy test\n",
    "plt.plot(history.history['val_accuracy'])\n",
    "plt.title(\"Test Accuracy\")\n",
    "plt.show()"
   ]
  },
  {
   "cell_type": "code",
   "execution_count": 31,
   "id": "appreciated-visibility",
   "metadata": {},
   "outputs": [
    {
     "data": {
      "image/png": "[encoded data removed]",
      "text/plain": [
       "<Figure size 432x288 with 1 Axes>"
      ]
     },
     "metadata": {
      "needs_background": "light"
     },
     "output_type": "display_data"
    }
   ],
   "source": [
    "# loss history\n",
    "plt.plot(history.history['loss'])\n",
    "plt.title(\"Train Loss\")\n",
    "plt.show()"
   ]
  },
  {
   "cell_type": "code",
   "execution_count": null,
   "id": "combined-latino",
   "metadata": {},
   "outputs": [],
   "source": []
  }
 ],
 "metadata": {
  "kernelspec": {
   "display_name": "Python 3",
   "language": "python",
   "name": "python3"
  },
  "language_info": {
   "codemirror_mode": {
    "name": "ipython",
    "version": 3
   },
   "file_extension": ".py",
   "mimetype": "text/x-python",
   "name": "python",
   "nbconvert_exporter": "python",
   "pygments_lexer": "ipython3",
   "version": "3.8.8"
  }
 },
 "nbformat": 4,
 "nbformat_minor": 5
}
