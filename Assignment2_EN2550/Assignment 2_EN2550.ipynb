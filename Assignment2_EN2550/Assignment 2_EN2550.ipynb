{
 "cells": [
  {
   "cell_type": "code",
   "execution_count": 2,
   "metadata": {},
   "outputs": [
    {
     "name": "stdout",
     "output_type": "stream",
     "text": [
      "[[-1.  0.  0.]\n",
      " [ 0.  1.  0.]\n",
      " [ 0.  0.  1.]]\n",
      "[[1.5        1.85355339 2.56066017 2.20710678]\n",
      " [2.         2.70710678 2.         1.29289322]\n",
      " [1.         1.         1.         1.        ]]\n",
      "[1.5        1.85355339 2.56066017 2.20710678 1.5       ]\n",
      "[2.         2.70710678 2.         1.29289322 2.        ]\n"
     ]
    }
   ],
   "source": [
    "#2D transforms \n",
    "import matplotlib.pyplot as plt\n",
    "import numpy as np\n",
    "import string\n",
    "import cv2 as cv\n",
    "# points a, b and, c\n",
    "a, b, c, d = (0, 0, 1), (0, 1, 1), (1, 1, 1), (1, 0, 1)\n",
    "# matrix with row vectors of points\n",
    "P = np.array([a, b, c, d]).T\n",
    "\n",
    "H = np.identity(3)\n",
    "#H[0,0] = 2\n",
    "#H[1,1] = 1.5\n",
    "#H[0,2] = 1.5\n",
    "#H[1,2] = 2\n",
    "#H[0,1] = 0.5\n",
    "H = np.identity(3)\n",
    "H[0,0]=-1\n",
    "#H[1,0] = 0.5\n",
    "H_homography=[[2,1,2],[2,5,1],[3,2,1]]\n",
    "t = np.pi/4\n",
    "H_rotation= [[np.cos(t), np.sin(t), 0.], [-np.sin(t), np.cos(t), 0.], [0., 0., 1.]]\n",
    "H_euclidead=[[np.cos(t), np.sin(t), 1.5], [-np.sin(t), np.cos(t), 1.5], [0., 0., 1.]]\n",
    "H_similarity=[[2*np.cos(t),2*np.sin(t), 1.5], [-2*np.sin(t),2*np.cos(t), 1.5], [0., 0., 1.]]\n",
    "H_affine=[[np.cos(t),0.5* np.sin(t),1.5],[-np.sin(t), np.cos(t),2],[0,0,1]]\n",
    "print(H)\n",
    "Pt = np.matmul(H_affine, P)\n",
    "\n",
    "print(Pt)\n",
    "P = P/P[-1, :]\n",
    "P = np.insert(P,4,P[:,0],axis=1) \n",
    "\n",
    "x = P[0, :]\n",
    "y = P[1, :]\n",
    "Pt = Pt/Pt[-1, :]\n",
    "Pt = np.insert(Pt,4,Pt[:,0],axis=1)\n",
    "xt = Pt[0, :]\n",
    "yt = Pt[1, :]\n",
    "print(xt)\n",
    "print(yt)\n",
    " "
   ]
  },
  {
   "cell_type": "code",
   "execution_count": 3,
   "metadata": {},
   "outputs": [
    {
     "data": {
      "text/plain": [
       "Text(0.5, 1.0, 'Affine Transformation')"
      ]
     },
     "execution_count": 3,
     "metadata": {},
     "output_type": "execute_result"
    },
    {
     "data": {
      "image/png": "[encoded data removed]",
      "text/plain": [
       "<Figure size 432x288 with 1 Axes>"
      ]
     },
     "metadata": {
      "needs_background": "light"
     },
     "output_type": "display_data"
    }
   ],
   "source": [
    "fig, ax = plt.subplots(1,1, sharex=True, sharey=True)\n",
    "ax.plot(x, y, color='#6699cc', alpha=0.7,\n",
    "linewidth=3, solid_capstyle='round', zorder=2)\n",
    "ax.set_aspect('equal')\n",
    "ax.plot(xt, yt, color='#ff00cc', alpha=0.7,\n",
    "linewidth=3, solid_capstyle='round', zorder=2)\n",
    "ax.set_aspect('equal')\n",
    "ax.set_title(\"Affine Transformation\")"
   ]
  },
  {
   "cell_type": "code",
   "execution_count": 4,
   "metadata": {},
   "outputs": [
    {
     "name": "stdout",
     "output_type": "stream",
     "text": [
      "H inverse= [[ 1.98849651e+00 -1.12504231e-01 -4.44351164e+02]\n",
      " [-4.01372580e-01  8.81609323e-01  1.11683743e+02]\n",
      " [-9.93256865e-04  8.75823372e-05  1.22275771e+00]]\n"
     ]
    }
   ],
   "source": [
    "#image warping \n",
    "im1 = cv.imread('Downloads/Graf/img1.ppm', cv.IMREAD_ANYCOLOR)\n",
    "im5=cv.imread('Downloads/Graf/img5.ppm', cv.IMREAD_ANYCOLOR)\n",
    "with open('Downloads/Graf/H1to5p') as f:\n",
    "       H = [[float(x) for x in line.split()] for line in f]\n",
    "H = np.array(H)\n",
    "print(\"H inverse=\",np.linalg.inv(H))\n",
    "im5_warped = cv.warpPerspective(im5, np.linalg.inv(H), (1000,1000))\n",
    "im5_warped[0:im1.shape[0], 0:im1.shape[1]] = im1\n",
    "cv.namedWindow(\"Image 1\", cv.WINDOW_AUTOSIZE)\n",
    "cv.imshow(\"Image 1\", im1)\n",
    "cv.waitKey(0)\n",
    "cv.namedWindow(\"Image 5\", cv.WINDOW_AUTOSIZE)\n",
    "cv.imshow(\"Image 5\", im5)\n",
    "cv.waitKey(0)\n",
    "cv.namedWindow(\"Image 5 Warped\", cv.WINDOW_AUTOSIZE)\n",
    "cv.imshow(\"Image 5 Warped\", im5_warped)\n",
    "cv.waitKey(0)\n",
    "cv.destroyAllWindows()"
   ]
  },
  {
   "cell_type": "code",
   "execution_count": 5,
   "metadata": {},
   "outputs": [
    {
     "name": "stdout",
     "output_type": "stream",
     "text": [
      "H= [[ 6.2544644e-01  5.7759174e-02  2.2201217e+02]\n",
      " [ 2.2240536e-01  1.1652147e+00 -2.5605611e+01]\n",
      " [ 4.9212545e-04 -3.6542424e-05  1.0000000e+00]]\n"
     ]
    }
   ],
   "source": [
    "im1 = cv.imread('Downloads/Graf/img1.ppm', cv.IMREAD_ANYCOLOR)\n",
    "im5=cv.imread('Downloads/Graf/img5.ppm', cv.IMREAD_ANYCOLOR)\n",
    "with open('Downloads/Graf/H1to5p') as f:\n",
    "       H = [[float(x) for x in line.split()] for line in f]\n",
    "H = np.array(H)\n",
    "print(\"H=\",H)\n",
    "im1_warped = cv.warpPerspective(im1,H, (1000,1000))\n",
    "im1_warped[0:im5.shape[0], 0:im5.shape[1]] = im5\n",
    "cv.namedWindow(\"Image 1\", cv.WINDOW_AUTOSIZE)\n",
    "cv.imshow(\"Image 1\", im1)\n",
    "cv.waitKey(0)\n",
    "cv.namedWindow(\"Image 5\", cv.WINDOW_AUTOSIZE)\n",
    "cv.imshow(\"Image 5\", im5)\n",
    "cv.waitKey(0)\n",
    "cv.namedWindow(\"Image 5 Warped\", cv.WINDOW_AUTOSIZE)\n",
    "cv.imshow(\"Image 5 Warped\", im1_warped)\n",
    "cv.waitKey(0)\n",
    "cv.destroyAllWindows()"
   ]
  },
  {
   "cell_type": "code",
   "execution_count": 6,
   "metadata": {},
   "outputs": [
    {
     "name": "stdout",
     "output_type": "stream",
     "text": [
      "p1= [[333. 191.]\n",
      " [404. 207.]\n",
      " [761.  35.]\n",
      " [ 79.   9.]\n",
      " [ 65. 394.]]\n",
      "p2= [[383. 234.]\n",
      " [411. 259.]\n",
      " [513. 138.]\n",
      " [264.   6.]\n",
      " [278. 437.]]\n"
     ]
    }
   ],
   "source": [
    "#image stitching and finding homography \n",
    "N = 5\n",
    "global n \n",
    "n = 0\n",
    "p1 = np.empty((N,2))\n",
    "p2 = np.empty((N,2))\n",
    "# mouse callback function\n",
    "def draw_circle(event,x,y,flags,param):\n",
    "     global n \n",
    "     p = param[0] \n",
    "     if event == cv.EVENT_LBUTTONDOWN:\n",
    "            cv.circle(param[1],(x,y),5,(255,0,0),-1)\n",
    "            p[n] = (x,y)\n",
    "            n += 1\n",
    "im1 = cv.imread('Downloads/Graf/img1.ppm', cv.IMREAD_ANYCOLOR)\n",
    "im5 = cv.imread('Downloads/Graf/img5.ppm', cv.IMREAD_ANYCOLOR)\n",
    "im1copy = im1.copy()\n",
    "im5copy = im5.copy()\n",
    "cv.namedWindow('Image 1', cv.WINDOW_AUTOSIZE)\n",
    "param = [p1, im1copy]\n",
    "cv.setMouseCallback('Image 1',draw_circle, param)\n",
    "while(1):\n",
    "    cv.imshow(\"Image 1\", im1copy)\n",
    "    if n == N:\n",
    "         break\n",
    "    if cv.waitKey(20) & 0xFF == 27:\n",
    "         break\n",
    "param = [p2, im5copy]\n",
    "n = 0\n",
    "cv.namedWindow('Image 5', cv.WINDOW_AUTOSIZE)\n",
    "cv.setMouseCallback('Image 5',draw_circle, param)\n",
    "while(1):\n",
    "      cv.imshow(\"Image 5\", im5copy)\n",
    "      if n == N:\n",
    "           break\n",
    "      if cv.waitKey(20) & 0xFF == 27:\n",
    "           break\n",
    "print(\"p1=\",p1)\n",
    "print(\"p2=\",p2)\n",
    "cv.waitKey(0)\n",
    "cv.destroyAllWindows()\n"
   ]
  },
  {
   "cell_type": "code",
   "execution_count": 7,
   "metadata": {},
   "outputs": [
    {
     "name": "stdout",
     "output_type": "stream",
     "text": [
      "H= [[ 6.06878675e-01  2.80277599e-02  2.25048045e+02]\n",
      " [ 2.20577965e-01  1.11589992e+00 -2.13190168e+01]\n",
      " [ 4.50158285e-04 -1.01662501e-04  1.00000000e+00]]\n"
     ]
    }
   ],
   "source": [
    "#calculating homography with opencv\n",
    "H,mask=cv.findHomography(p1,p2)\n",
    "print(\"H=\",H)"
   ]
  },
  {
   "cell_type": "code",
   "execution_count": 105,
   "metadata": {},
   "outputs": [],
   "source": [
    "im_warped = cv.warpPerspective(im5, np.linalg.inv(H), (1000,1000))\n",
    "im_warped[0:im1.shape[0], 0:im1.shape[1]] = im1\n",
    "cv.namedWindow(\"Stiched Image\", cv.WINDOW_AUTOSIZE)\n",
    "cv.imshow(\"Stiched Image\", im_warped)\n",
    "cv.waitKey(0)\n",
    "cv.destroyAllWindows()"
   ]
  },
  {
   "cell_type": "code",
   "execution_count": 29,
   "metadata": {},
   "outputs": [],
   "source": [
    "#seamless cloning \n",
    "im_warped = cv.warpPerspective(im5, np.linalg.inv(H), (1000,1000))\n",
    "mask=np.zeros((im1.shape[0],im1.shape[1]),dtype=np.uint8)\n",
    "poly = np.array([[0,0],[0,im1.shape[1]],[im1.shape[0],im1.shape[1]],[im1.shape[0],0]], np.int32)\n",
    "cv.fillPoly(mask, [poly],(255,255,255),cv.LINE_8)#a mask of image 1 size and able to capture the whole image. \n",
    "center=(320,320)#coordinates of warped image where the image 1 should be placed \n",
    "Stitched_img = cv.seamlessClone(im1,im_warped, mask,center,cv.NORMAL_CLONE)#stitching the 2 images using seamless clone \n",
    "cv.namedWindow(\"Stiched Image\", cv.WINDOW_AUTOSIZE)\n",
    "cv.imshow(\"Stiched Image\",Stitched_img)\n",
    "cv.waitKey(0)\n",
    "cv.destroyAllWindows()"
   ]
  },
  {
   "cell_type": "code",
   "execution_count": 106,
   "metadata": {},
   "outputs": [
    {
     "name": "stdout",
     "output_type": "stream",
     "text": [
      "p1= [[335. 193.]\n",
      " [406. 207.]\n",
      " [763.  32.]\n",
      " [ 80.  10.]\n",
      " [ 63. 394.]]\n",
      "p2= [[381. 236.]\n",
      " [410. 258.]\n",
      " [511. 138.]\n",
      " [264.   6.]\n",
      " [279. 438.]]\n"
     ]
    }
   ],
   "source": [
    "N = 5\n",
    "global n \n",
    "n = 0\n",
    "p1 = np.empty((N,2))\n",
    "p2 = np.empty((N,2))\n",
    "# mouse callback function\n",
    "def draw_circle(event,x,y,flags,param):\n",
    "     global n \n",
    "     p = param[0] \n",
    "     if event == cv.EVENT_LBUTTONDOWN:\n",
    "            cv.circle(param[1],(x,y),5,(255,0,0),-1)\n",
    "            p[n] = (x,y)\n",
    "            n += 1\n",
    "im1 = cv.imread('Downloads/Graf/img1.ppm', cv.IMREAD_ANYCOLOR)\n",
    "im5 = cv.imread('Downloads/Graf/img5.ppm', cv.IMREAD_ANYCOLOR)\n",
    "im1copy = im1.copy()\n",
    "im5copy = im5.copy()\n",
    "cv.namedWindow('Image 1', cv.WINDOW_AUTOSIZE)\n",
    "param = [p1, im1copy]\n",
    "cv.setMouseCallback('Image 1',draw_circle, param)\n",
    "while(1):\n",
    "    cv.imshow(\"Image 1\", im1copy)\n",
    "    if n == N:\n",
    "         break\n",
    "    if cv.waitKey(20) & 0xFF == 27:\n",
    "         break\n",
    "param = [p2, im5copy]\n",
    "n = 0\n",
    "cv.namedWindow(\"Image 5\", cv.WINDOW_AUTOSIZE)\n",
    "cv.setMouseCallback('Image 5',draw_circle, param)\n",
    "while(1):\n",
    "      cv.imshow(\"Image 5\", im5copy)\n",
    "      if n == N:\n",
    "           break\n",
    "      if cv.waitKey(20) & 0xFF == 27:\n",
    "           break\n",
    "print(\"p1=\",p1)\n",
    "print(\"p2=\",p2)\n",
    "cv.destroyAllWindows()"
   ]
  },
  {
   "cell_type": "code",
   "execution_count": 108,
   "metadata": {},
   "outputs": [
    {
     "name": "stdout",
     "output_type": "stream",
     "text": [
      "H= [[ 1.89361440e+00 -8.18123182e-02 -4.33848274e+02]\n",
      " [-3.96017203e-01  8.44493158e-01  1.07534718e+02]\n",
      " [-6.93743360e-04  2.86310006e-04  1.00000000e+00]]\n"
     ]
    }
   ],
   "source": [
    "#calculating homography without opencv\n",
    "A = np.empty((2*N, 9))\n",
    "for i in range (N):\n",
    "    A[2*i,:]=np.array([p2[i,0],p2[i,1],1,0,0,0,-1*p1[i,0]*p2[i,0],-1*p1[i,0]*p2[i,1],-1*p1[i,0]])\n",
    "    A[2*i+1,:]=np.array([0,0,0,p2[i,0],p2[i,1],1,-1*p1[i,1]*p2[i,0],-1*p1[i,1]*p2[i,1],-1*p1[i,1]])\n",
    "m=np.matmul(A.T,A)\n",
    "w,v=np.linalg.eig(m)#calculating eigenvalues and eigenvectors \n",
    "h=v[:,np.argmin(w)]#eigenvector with the minimum eigenvalue \n",
    "H=h.reshape(3,3)\n",
    "H=H/H[-1,-1]# in order to make h2x2 value 1 \n",
    "print(\"H=\",H)\n",
    "im_warped = cv.warpPerspective(im5,H, (1000,1000))\n",
    "im_warped[0:im1.shape[0], 0:im1.shape[1]] = im1\n",
    "cv.namedWindow(\"Stiched Image\", cv.WINDOW_AUTOSIZE)\n",
    "cv.imshow(\"Stiched Image\", im_warped)\n",
    "cv.waitKey(0)\n",
    "cv.destroyAllWindows()"
   ]
  },
  {
   "cell_type": "code",
   "execution_count": 3,
   "metadata": {},
   "outputs": [
    {
     "name": "stdout",
     "output_type": "stream",
     "text": [
      "p1= [[332. 189.]\n",
      " [404. 208.]\n",
      " [762.  34.]\n",
      " [ 81.   9.]\n",
      " [103. 548.]]\n",
      "p2= [[384. 206.]\n",
      " [416. 238.]\n",
      " [632. 171.]\n",
      " [266.   3.]\n",
      " [141. 501.]]\n",
      "p3= [[284. 252.]\n",
      " [324. 247.]\n",
      " [377.  55.]\n",
      " [ 27. 143.]\n",
      " [398. 636.]]\n"
     ]
    }
   ],
   "source": [
    "#multiple image stitching \n",
    "N = 5\n",
    "global n \n",
    "n = 0\n",
    "p1 = np.empty((N,2))\n",
    "p2 = np.empty((N,2))\n",
    "p3= np.empty((N,2))\n",
    "# mouse callback function\n",
    "def draw_circle(event,x,y,flags,param):\n",
    "     global n \n",
    "     p = param[0] \n",
    "     if event == cv.EVENT_LBUTTONDOWN:\n",
    "            cv.circle(param[1],(x,y),5,(255,0,0),-1)\n",
    "            p[n] = (x,y)\n",
    "            n += 1\n",
    "im1 = cv.imread('Downloads/Graf/img1.ppm', cv.IMREAD_ANYCOLOR)\n",
    "im3 = cv.imread('Downloads/Graf/img3.ppm', cv.IMREAD_ANYCOLOR)\n",
    "im4 = cv.imread('Downloads/Graf/img4.ppm', cv.IMREAD_ANYCOLOR)\n",
    "im1copy = im1.copy()\n",
    "im3copy = im3.copy()\n",
    "im4copy = im4.copy()\n",
    "cv.namedWindow('Image 1', cv.WINDOW_AUTOSIZE)\n",
    "param = [p1, im1copy]\n",
    "cv.setMouseCallback('Image 1',draw_circle, param)\n",
    "while(1):\n",
    "    cv.imshow(\"Image 1\", im1copy)\n",
    "    if n == N:\n",
    "         break\n",
    "    if cv.waitKey(20) & 0xFF == 27:\n",
    "         break\n",
    "\n",
    "param = [p2, im3copy]\n",
    "n=0\n",
    "cv.namedWindow('Image 3', cv.WINDOW_AUTOSIZE)\n",
    "cv.setMouseCallback('Image 3',draw_circle, param)\n",
    "while(1):\n",
    "    cv.imshow(\"Image 3\", im3copy)\n",
    "    if n == N:\n",
    "         break\n",
    "    if cv.waitKey(20) & 0xFF == 27:\n",
    "         break\n",
    "param = [p3, im4copy]\n",
    "n = 0\n",
    "cv.namedWindow(\"Image 4\", cv.WINDOW_AUTOSIZE)\n",
    "cv.setMouseCallback('Image 4',draw_circle, param)\n",
    "while(1):\n",
    "      cv.imshow(\"Image 4\", im4copy)\n",
    "      if n == N:\n",
    "           break\n",
    "      if cv.waitKey(20) & 0xFF == 27:\n",
    "           break\n",
    "print(\"p1=\",p1)\n",
    "print(\"p2=\",p2)\n",
    "print(\"p3=\",p3)\n",
    "cv.waitKey(0)\n",
    "cv.destroyAllWindows()\n"
   ]
  },
  {
   "cell_type": "code",
   "execution_count": 6,
   "metadata": {},
   "outputs": [
    {
     "name": "stdout",
     "output_type": "stream",
     "text": [
      "H1= [[ 6.93006237e-01 -2.99738373e-01  2.17350453e+02]\n",
      " [ 2.58380651e-01  8.04483745e-01 -2.53247454e+01]\n",
      " [ 2.26316742e-04 -2.56642125e-04  1.00000000e+00]]\n",
      "H2= [[ 7.05685259e-01  7.23502622e-01 -3.55849884e+01]\n",
      " [-1.43902264e-01  1.01548721e+00  1.51998756e+02]\n",
      " [ 5.22351995e-04  6.71385986e-05  1.00000000e+00]]\n"
     ]
    }
   ],
   "source": [
    "H1to3,mask=cv.findHomography(p1,p2)\n",
    "print(\"H1=\",H1to3)\n",
    "H1to4,mask=cv.findHomography(p1,p3)\n",
    "print(\"H2=\",H1to4)"
   ]
  },
  {
   "cell_type": "code",
   "execution_count": 7,
   "metadata": {},
   "outputs": [],
   "source": [
    "im3_warped = cv.warpPerspective(im3, np.linalg.inv(H1to3), (1000,1000))\n",
    "im4_warped = cv.warpPerspective(im4, np.linalg.inv(H1to4), (1000,1000))\n",
    "im4_warped[0:im1.shape[0], 0:im1.shape[1]] = im1\n",
    "im4_warped[0:im3_warped.shape[0],0:100]=im3_warped[:,0:100]\n",
    "cv.namedWindow(\"Stiched Image\", cv.WINDOW_AUTOSIZE)\n",
    "cv.imshow(\"Stiched Image\", im4_warped)\n",
    "cv.waitKey(0)\n",
    "cv.destroyAllWindows()"
   ]
  },
  {
   "cell_type": "code",
   "execution_count": 30,
   "metadata": {},
   "outputs": [],
   "source": [
    "#Ran superglue in anaconda prompt.Here the results are accessed \n",
    "npz=np.load(\"Downloads/SuperGluePretrainedNetwork-master/inputs_outputs/img1_img5_matches.npz\")"
   ]
  },
  {
   "cell_type": "code",
   "execution_count": 115,
   "metadata": {},
   "outputs": [
    {
     "data": {
      "text/plain": [
       "['keypoints0', 'keypoints1', 'matches', 'match_confidence']"
      ]
     },
     "execution_count": 115,
     "metadata": {},
     "output_type": "execute_result"
    }
   ],
   "source": [
    "npz.files"
   ]
  },
  {
   "cell_type": "code",
   "execution_count": 204,
   "metadata": {},
   "outputs": [],
   "source": [
    "k1=npz['keypoints0']\n",
    "k2=npz['keypoints1']\n",
    "a=npz['matches']"
   ]
  },
  {
   "cell_type": "code",
   "execution_count": 205,
   "metadata": {},
   "outputs": [
    {
     "name": "stdout",
     "output_type": "stream",
     "text": [
      "(1024, 2) (1024, 2) (1024,)\n"
     ]
    }
   ],
   "source": [
    "print(k1.shape,k2.shape,a.shape)"
   ]
  },
  {
   "cell_type": "code",
   "execution_count": 148,
   "metadata": {},
   "outputs": [],
   "source": [
    "p1,p2=[],[]\n",
    "for i in range(k1.shape[0]):\n",
    "    if a[i]==-1:\n",
    "        continue \n",
    "    else:\n",
    "        p1.append(k1[i])\n",
    "        p2.append(k2[a[i]])"
   ]
  },
  {
   "cell_type": "code",
   "execution_count": 149,
   "metadata": {},
   "outputs": [
    {
     "name": "stdout",
     "output_type": "stream",
     "text": [
      "308 308\n"
     ]
    }
   ],
   "source": [
    "print(len(p1),len(p2))"
   ]
  },
  {
   "cell_type": "code",
   "execution_count": 150,
   "metadata": {},
   "outputs": [
    {
     "name": "stdout",
     "output_type": "stream",
     "text": [
      "H= [[ 6.17523603e-01  6.16504728e-02  2.22363332e+02]\n",
      " [ 2.12884008e-01  1.16398802e+00 -2.21899900e+01]\n",
      " [ 4.75138423e-04 -2.54951414e-05  1.00000000e+00]]\n"
     ]
    }
   ],
   "source": [
    "p1=np.array(p1)\n",
    "p2=np.array(p2)\n",
    "H,mask=cv.findHomography(p1,p2,cv.RANSAC)\n",
    "print(\"H=\",H)"
   ]
  },
  {
   "cell_type": "code",
   "execution_count": 151,
   "metadata": {},
   "outputs": [],
   "source": [
    "im_warped = cv.warpPerspective(im5, np.linalg.inv(H), (1000,1000))\n",
    "im_warped[0:im1.shape[0], 0:im1.shape[1]] = im1\n",
    "cv.namedWindow(\"Stiched Image\", cv.WINDOW_AUTOSIZE)\n",
    "cv.imshow(\"Stiched Image\", im_warped)\n",
    "cv.waitKey(0)\n",
    "cv.destroyAllWindows()"
   ]
  }
 ],
 "metadata": {
  "kernelspec": {
   "display_name": "Python 3",
   "language": "python",
   "name": "python3"
  },
  "language_info": {
   "codemirror_mode": {
    "name": "ipython",
    "version": 3
   },
   "file_extension": ".py",
   "mimetype": "text/x-python",
   "name": "python",
   "nbconvert_exporter": "python",
   "pygments_lexer": "ipython3",
   "version": "3.7.4"
  }
 },
 "nbformat": 4,
 "nbformat_minor": 4
}
